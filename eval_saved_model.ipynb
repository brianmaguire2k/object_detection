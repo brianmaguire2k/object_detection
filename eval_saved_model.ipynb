{
 "cells": [
  {
   "source": [
    "Notebook to evaluate detection from saved model"
   ],
   "cell_type": "markdown",
   "metadata": {}
  },
  {
   "cell_type": "code",
   "execution_count": null,
   "metadata": {},
   "outputs": [],
   "source": [
    "import os\n",
    "import glob\n",
    "import tensorflow as tf\n",
    "import PIL.Image as Image\n",
    "import matplotlib.pyplot as plt\n",
    "import numpy as np\n",
    "import utils.visualization_utils as viz_utils\n",
    "from utils import np_box_list\n",
    "from utils import np_box_list_ops\n",
    "from data_decoders import tf_example_decoder\n",
    "\n",
    "%matplotlib inline"
   ]
  },
  {
   "cell_type": "code",
   "execution_count": null,
   "metadata": {},
   "outputs": [],
   "source": [
    "# load model saved with export_model.sh\n",
    "tf.keras.backend.clear_session()\n",
    "model_type = 'faster_rcnn'\n",
    "detect_fn = tf.saved_model.load('/home/tensorflow/work/models/' + model_type + '_resnet50/export/saved_model')"
   ]
  },
  {
   "cell_type": "code",
   "execution_count": null,
   "metadata": {},
   "outputs": [],
   "source": [
    "# check model performance on evaluation set\n",
    "tfrecord_path = 'data/eval.record'\n",
    "dataset = tf.data.TFRecordDataset(tfrecord_path)\n",
    "decoder = tf_example_decoder.TfExampleDecoder()\n",
    "\n",
    "# initialize iou/class score lists for calculating statistics\n",
    "iou_all = []\n",
    "class_score_all = []\n",
    "\n",
    "# for plotting a few examples...\n",
    "category_index = {\n",
    "    1: {'id': 1, 'name': 'truck'}\n",
    "}\n",
    "\n",
    "# iterate over evaluation images, perform detection, save class scores and ious\n",
    "# plot the first few with detected boxes\n",
    "for idx, example in enumerate(dataset.as_numpy_iterator()):\n",
    "    im_dict = decoder.decode(example)\n",
    "    truth_boxes = np_box_list.BoxList(im_dict['groundtruth_boxes'].numpy())\n",
    "    detections = detect_fn(tf.expand_dims(im_dict['image'], axis=0))\n",
    "    detect_boxes = np_box_list.BoxList(detections['detection_boxes'].numpy()[0])\n",
    "\n",
    "    class_score_all.append(np.squeeze(detections['detection_multiclass_scores'].numpy()))\n",
    "    iou_all.append(np_box_list_ops.iou(truth_boxes, detect_boxes)[0])\n",
    "\n",
    "    if idx < 5:\n",
    "        im_detect = im_dict['image'].numpy()\n",
    "\n",
    "        viz_utils.visualize_boxes_and_labels_on_image_array(im_detect,\n",
    "            detections['detection_boxes'][0].numpy(), \n",
    "            detections['detection_classes'][0].numpy().astype(np.int32), \n",
    "            detections['detection_scores'][0].numpy(),\n",
    "            category_index,\n",
    "            use_normalized_coordinates=True,\n",
    "            min_score_thresh=0.75)\n",
    "\n",
    "        plt.figure()\n",
    "        plt.imshow(im_detect)\n",
    "        plt.show()"
   ]
  },
  {
   "cell_type": "code",
   "execution_count": null,
   "metadata": {},
   "outputs": [],
   "source": [
    "n_tgts = len(iou_all) # total number of true targets (1 per image)\n",
    "n_detections = np.shape(iou_all[0])[0] # number of detections per image\n",
    "tp = 0 # true positives\n",
    "fp = 0 # false positives\n",
    "fn = 0 # false negatives\n",
    "\n",
    "# define thresholds for positive detection\n",
    "iou_thresh = 0.5\n",
    "class_thresh = 0.75\n",
    "\n",
    "# iterate over images\n",
    "for iou_im, class_score_im in zip(iou_all, class_score_all):\n",
    "    # initialize per image true/false positives (so i can check for false negative, ie no detection)\n",
    "    tp_im = 0\n",
    "    fp_im = 0\n",
    "    # iterate over detections for this image\n",
    "    for iou, class_score in zip(iou_im, class_score_im): # gotta name these something clearer\n",
    "        if (iou > iou_thresh) and (class_score[1] > class_thresh):\n",
    "            tp_im += 1\n",
    "        elif (iou < iou_thresh) and (class_score[1] > class_thresh):\n",
    "            fp_im += 1\n",
    "\n",
    "    if tp_im > 0:\n",
    "        tp += 1\n",
    "    else:\n",
    "        fn += 1\n",
    "\n",
    "    fp += fp_im\n",
    "\n",
    "p_dc = tp / n_tgts # probability of correct detection/classification\n",
    "p_fa = fp / n_tgts # probability of false alarm\n",
    "\n",
    "print(f'Probability of correct detection/classification = {p_dc}')\n",
    "print(f'Probability of false alarm = {p_fa}')"
   ]
  }
 ],
 "metadata": {
  "kernelspec": {
   "display_name": "Python 3",
   "language": "python",
   "name": "python3"
  },
  "language_info": {
   "codemirror_mode": {
    "name": "ipython",
    "version": 3
   },
   "file_extension": ".py",
   "mimetype": "text/x-python",
   "name": "python",
   "nbconvert_exporter": "python",
   "pygments_lexer": "ipython3",
   "version": "3.6.9-final"
  }
 },
 "nbformat": 4,
 "nbformat_minor": 4
}